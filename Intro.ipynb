{
 "cells": [
  {
   "cell_type": "code",
   "execution_count": null,
   "id": "0f1d40af-03c2-40e8-a741-4fffa324f316",
   "metadata": {},
   "outputs": [],
   "source": []
  }
 ],
 "metadata": {
  "kernelspec": {
   "display_name": "",
   "name": ""
  },
  "language_info": {
   "name": ""
  }
 },
 "nbformat": 4,
 "nbformat_minor": 5
}
